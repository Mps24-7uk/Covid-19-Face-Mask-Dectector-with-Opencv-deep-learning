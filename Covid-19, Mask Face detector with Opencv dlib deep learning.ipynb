{
 "cells": [
  {
   "cell_type": "code",
   "execution_count": 1,
   "metadata": {},
   "outputs": [],
   "source": [
    "import numpy as np\n",
    "import dlib\n",
    "from imutils import face_utils\n",
    "import os\n",
    "import cv2"
   ]
  },
  {
   "cell_type": "code",
   "execution_count": 3,
   "metadata": {},
   "outputs": [],
   "source": [
    "from keras.models import load_model\n",
    "\n",
    "model = load_model(\"covid_dlib.h5\", compile= False)"
   ]
  },
  {
   "cell_type": "code",
   "execution_count": 6,
   "metadata": {},
   "outputs": [],
   "source": [
    "detect = dlib.get_frontal_face_detector()\n",
    "predict = dlib.shape_predictor(\"shape_predictor_81_face_landmarks.dat\")\n",
    "cap = cv2.VideoCapture(0)\n",
    "\n",
    "while (cap.isOpened()):\n",
    "    \n",
    "    ret, frame=cap.read()\n",
    "    if not ret:\n",
    "        break  \n",
    "    gray=cv2.cvtColor(frame,cv2.COLOR_BGR2GRAY)  \n",
    "    subjects= detect(gray, 1)\n",
    "    if len(subjects) !=0:\n",
    "        for subject in subjects: \n",
    "            shape = predict(gray, subject)\n",
    "            shape = face_utils.shape_to_np(shape)\n",
    "            (x, y, w, h) = face_utils.rect_to_bb(subject)\n",
    "\n",
    "            roi_gray=gray[y-25:y+h+10,x-25:x+w+10]\n",
    "\n",
    "            if len(roi_gray)==0:\n",
    "                continue\n",
    "\n",
    "            result=np.argmax(model.predict(cv2.resize(roi_gray,(128,128)).reshape(-1,128,128,1)), axis=1)\n",
    "\n",
    "            color = (0,255,0) if result==1 else (0,0,255)\n",
    "            \n",
    "            cv2.rectangle(frame,(x,y),(x+w,y+h),color ,4) \n",
    "\n",
    "\n",
    "            \n",
    " \n",
    "            cv2.putText(frame,\"Mask\" if result==1 else \"No Mask\", (x,y-20), cv2.FONT_HERSHEY_PLAIN, 2, color, 2)\n",
    "    \n",
    "    cv2.imshow('Mask', frame)\n",
    "        \n",
    "    if cv2.waitKey(1)==13:\n",
    "        break\n",
    "    \n",
    "cap.release()                    \n",
    "cv2.destroyAllWindows()       "
   ]
  }
 ],
 "metadata": {
  "kernelspec": {
   "display_name": "Python 3",
   "language": "python",
   "name": "python3"
  },
  "language_info": {
   "codemirror_mode": {
    "name": "ipython",
    "version": 3
   },
   "file_extension": ".py",
   "mimetype": "text/x-python",
   "name": "python",
   "nbconvert_exporter": "python",
   "pygments_lexer": "ipython3",
   "version": "3.6.8"
  }
 },
 "nbformat": 4,
 "nbformat_minor": 2
}
